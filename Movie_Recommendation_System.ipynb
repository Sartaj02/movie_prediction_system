{
  "nbformat": 4,
  "nbformat_minor": 0,
  "metadata": {
    "colab": {
      "provenance": []
    },
    "kernelspec": {
      "name": "python3",
      "display_name": "Python 3"
    },
    "language_info": {
      "name": "python"
    }
  },
  "cells": [
    {
      "cell_type": "markdown",
      "source": [
        "# **Movie Recommendation System**\n",
        "\n",
        "\n",
        "---\n",
        "\n",
        "\n",
        "\n",
        "# Objective\n",
        "\n",
        "Build a movie recommendation system that suggests movies to users based on their previous ratings using collaborative filtering.\n",
        "\n",
        "\n",
        "# Data Source\n",
        "\n",
        "The MovieLens 100k Dataset contains 100,000 ratings for 1682 movies by 943 users.\n",
        "\n",
        "\n",
        "# Import Library\n",
        "\n"
      ],
      "metadata": {
        "id": "rsQ-44A9Lnz6"
      }
    },
    {
      "cell_type": "code",
      "source": [
        "import pandas as pd\n",
        "import numpy as np\n",
        "import matplotlib.pyplot as plt\n",
        "import seaborn as sns\n",
        "from sklearn.model_selection import train_test_split\n",
        "from sklearn.metrics import mean_squared_error\n",
        "from math import sqrt\n",
        "from scipy.sparse import csr_matrix\n",
        "from sklearn.neighbors import NearestNeighbors"
      ],
      "metadata": {
        "id": "hX3E9871OEkW"
      },
      "execution_count": null,
      "outputs": []
    },
    {
      "cell_type": "markdown",
      "source": [
        "# Import Data"
      ],
      "metadata": {
        "id": "9wx0CLTfOjOD"
      }
    },
    {
      "cell_type": "code",
      "source": [
        "# Download MovieLens dataset\n",
        "!wget https://files.grouplens.org/datasets/movielens/ml-100k.zip\n",
        "!unzip ml-100k.zip\n",
        "\n",
        "# Load data\n",
        "movies = pd.read_csv('ml-100k/u.item', sep='|', header=None, encoding='latin-1', usecols=[0, 1], names=['movie_id', 'title'])\n",
        "ratings = pd.read_csv('ml-100k/u.data', sep='\\t', header=None, usecols=[0, 1, 2], names=['user_id', 'movie_id', 'rating'])\n"
      ],
      "metadata": {
        "id": "BA2ptvG2O6to"
      },
      "execution_count": null,
      "outputs": []
    },
    {
      "cell_type": "markdown",
      "source": [],
      "metadata": {
        "id": "L8gen8_MMQ7K"
      }
    },
    {
      "cell_type": "markdown",
      "source": [
        "# Describe Data\n",
        "\n"
      ],
      "metadata": {
        "id": "l9tbCd3EQGm1"
      }
    },
    {
      "cell_type": "code",
      "source": [
        "# Overview of the data\n",
        "print(\"Movies Data:\")\n",
        "print(movies.head())\n",
        "\n",
        "print(\"\\nRatings Data:\")\n",
        "print(ratings.head())\n",
        "\n",
        "# Data information\n",
        "print(\"\\nMovies Data Information:\")\n",
        "movies.info()\n",
        "\n",
        "print(\"\\nRatings Data Information:\")\n",
        "ratings.info()\n"
      ],
      "metadata": {
        "id": "JQNpV1AeQP_9"
      },
      "execution_count": null,
      "outputs": []
    },
    {
      "cell_type": "markdown",
      "source": [
        "# Data Visualization\n",
        "\n"
      ],
      "metadata": {
        "id": "qCMGwQkZQ3pI"
      }
    },
    {
      "cell_type": "code",
      "source": [
        "# Visualize distribution of ratings\n",
        "plt.figure(figsize=(10, 6))\n",
        "sns.countplot(x='rating', data=ratings)\n",
        "plt.title('Distribution of Movie Ratings')\n",
        "plt.xlabel('Rating')\n",
        "plt.ylabel('Count')\n",
        "plt.show()\n"
      ],
      "metadata": {
        "id": "TlyXfqeBRA-7"
      },
      "execution_count": null,
      "outputs": []
    },
    {
      "cell_type": "markdown",
      "source": [
        "# Data Preprocessing\n",
        "\n"
      ],
      "metadata": {
        "id": "5RCy7f3TRItu"
      }
    },
    {
      "cell_type": "code",
      "source": [
        "# Merge the ratings with movies dataset\n",
        "data = pd.merge(ratings, movies, on='movie_id')\n",
        "\n",
        "# Create a user-movie matrix\n",
        "user_movie_matrix = data.pivot(index='user_id', columns='title', values='rating')\n",
        "\n",
        "# Fill NaN values with 0 for model training\n",
        "user_movie_matrix.fillna(0, inplace=True)\n"
      ],
      "metadata": {
        "id": "VXChs_EoRN0O"
      },
      "execution_count": null,
      "outputs": []
    },
    {
      "cell_type": "markdown",
      "source": [
        "# Define Target Variable (y) and Feature Variables (x)\n",
        "\n"
      ],
      "metadata": {
        "id": "WsAyKFAvRUjR"
      }
    },
    {
      "cell_type": "code",
      "source": [
        "# Target variable y (user_id) and feature variables X (movie ratings)\n",
        "X = user_movie_matrix.values\n",
        "y = user_movie_matrix.index\n"
      ],
      "metadata": {
        "id": "3LxrICDJRlJs"
      },
      "execution_count": null,
      "outputs": []
    },
    {
      "cell_type": "markdown",
      "source": [
        "# Train Test Split\n",
        "\n"
      ],
      "metadata": {
        "id": "CrY1SAQ0Rr85"
      }
    },
    {
      "cell_type": "code",
      "source": [
        "# No explicit train-test split in collaborative filtering, but we will use K-nearest neighbors model\n",
        "train_data, test_data = train_test_split(X, test_size=0.2, random_state=42)\n"
      ],
      "metadata": {
        "id": "HJ0WdgVERyOE"
      },
      "execution_count": null,
      "outputs": []
    },
    {
      "cell_type": "markdown",
      "source": [
        "# Modeling\n",
        "\n"
      ],
      "metadata": {
        "id": "W4rnJBPvR1ma"
      }
    },
    {
      "cell_type": "code",
      "source": [
        "# Build KNN model for collaborative filtering\n",
        "model_knn = NearestNeighbors(metric='cosine', algorithm='brute')\n",
        "model_knn.fit(train_data)\n"
      ],
      "metadata": {
        "id": "A3JWz4P2SEty"
      },
      "execution_count": null,
      "outputs": []
    },
    {
      "cell_type": "markdown",
      "source": [
        "# Model Evaluation\n",
        "\n"
      ],
      "metadata": {
        "id": "cUK93QYRSIM2"
      }
    },
    {
      "cell_type": "code",
      "source": [
        "# Random user and movie recommendation\n",
        "user_idx = 42\n",
        "distances, indices = model_knn.kneighbors([test_data[user_idx]], n_neighbors=6)\n",
        "\n",
        "print(f\"Recommendations for User {y[user_idx]}:\")\n",
        "for i in range(1, len(distances.flatten())):\n",
        "    print(f\"{i}: {user_movie_matrix.columns[indices.flatten()[i]]}\")\n"
      ],
      "metadata": {
        "id": "xoph5etRSOl6"
      },
      "execution_count": null,
      "outputs": []
    },
    {
      "cell_type": "markdown",
      "source": [
        "# Prediction\n"
      ],
      "metadata": {
        "id": "Pb_8fg5oSRbX"
      }
    },
    {
      "cell_type": "code",
      "source": [
        "# Predicting top recommendations for any user\n",
        "def recommend_movies(user_id, n_recommendations=5):\n",
        "    distances, indices = model_knn.kneighbors([test_data[user_id]], n_neighbors=n_recommendations+1)\n",
        "    recommendations = [user_movie_matrix.columns[indices.flatten()[i]] for i in range(1, len(distances.flatten()))]\n",
        "    return recommendations\n",
        "\n",
        "user_id = 42\n",
        "recommendations = recommend_movies(user_id)\n",
        "print(f\"Top {len(recommendations)} movie recommendations for User {user_id}: {recommendations}\")\n"
      ],
      "metadata": {
        "id": "5KF5SxZgSVeQ"
      },
      "execution_count": null,
      "outputs": []
    },
    {
      "cell_type": "markdown",
      "source": [
        "# Explaination\n",
        "\n",
        "In this project, we built a movie recommendation system using collaborative filtering based on the K-nearest neighbors algorithm. We used the MovieLens 100k dataset and transformed the data into a user-item matrix, where each cell represents the rating a user gave to a particular movie. The model recommends movies to users by finding the nearest neighbors based on cosine similarity, allowing for personalized suggestions."
      ],
      "metadata": {
        "id": "weGZH5sPSggF"
      }
    },
    {
      "cell_type": "markdown",
      "source": [],
      "metadata": {
        "id": "XFXf_CLbSuRP"
      }
    }
  ]
}